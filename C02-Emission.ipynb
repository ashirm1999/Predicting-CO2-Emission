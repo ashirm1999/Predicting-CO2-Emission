{
  "nbformat": 4,
  "nbformat_minor": 0,
  "metadata": {
    "kernelspec": {
      "display_name": "Python 3",
      "language": "python",
      "name": "python3"
    },
    "language_info": {
      "codemirror_mode": {
        "name": "ipython",
        "version": 3
      },
      "file_extension": ".py",
      "mimetype": "text/x-python",
      "name": "python",
      "nbconvert_exporter": "python",
      "pygments_lexer": "ipython3",
      "version": "3.7.2"
    },
    "colab": {
      "name": "C02Emissions.ipynb",
      "provenance": [],
      "collapsed_sections": []
    }
  },
  "cells": [
    {
      "cell_type": "markdown",
      "metadata": {
        "id": "oVmO1xD-bLg8"
      },
      "source": [
        "# Multivariate Linear Regression\n"
      ]
    },
    {
      "cell_type": "markdown",
      "metadata": {
        "id": "dJSboFjWbLg-"
      },
      "source": [
        "## Importing packages"
      ]
    },
    {
      "cell_type": "code",
      "metadata": {
        "id": "ZheP74MtbLg_"
      },
      "source": [
        "import matplotlib.pyplot as plt\n",
        "import pandas as pd\n",
        "import pylab as pl\n",
        "import numpy as np\n",
        "import statsmodels.api as sm\n",
        "%matplotlib inline"
      ],
      "execution_count": 37,
      "outputs": []
    },
    {
      "cell_type": "markdown",
      "metadata": {
        "id": "nH_hhCKsbLhO"
      },
      "source": [
        "## Reading the data"
      ]
    },
    {
      "cell_type": "code",
      "metadata": {
        "id": "X7GpqpvfbLhP",
        "colab": {
          "base_uri": "https://localhost:8080/",
          "height": 204
        },
        "outputId": "ea8b974c-1190-4c4e-b5d2-0a2a84f2e795"
      },
      "source": [
        "df = pd.read_csv('/content/FuelConsumption.csv')\n",
        "df.head()"
      ],
      "execution_count": 38,
      "outputs": [
        {
          "output_type": "execute_result",
          "data": {
            "text/html": [
              "<div>\n",
              "<style scoped>\n",
              "    .dataframe tbody tr th:only-of-type {\n",
              "        vertical-align: middle;\n",
              "    }\n",
              "\n",
              "    .dataframe tbody tr th {\n",
              "        vertical-align: top;\n",
              "    }\n",
              "\n",
              "    .dataframe thead th {\n",
              "        text-align: right;\n",
              "    }\n",
              "</style>\n",
              "<table border=\"1\" class=\"dataframe\">\n",
              "  <thead>\n",
              "    <tr style=\"text-align: right;\">\n",
              "      <th></th>\n",
              "      <th>MODELYEAR</th>\n",
              "      <th>MAKE</th>\n",
              "      <th>MODEL</th>\n",
              "      <th>VEHICLECLASS</th>\n",
              "      <th>ENGINESIZE</th>\n",
              "      <th>CYLINDERS</th>\n",
              "      <th>TRANSMISSION</th>\n",
              "      <th>FUELTYPE</th>\n",
              "      <th>FUELCONSUMPTION_CITY</th>\n",
              "      <th>FUELCONSUMPTION_HWY</th>\n",
              "      <th>FUELCONSUMPTION_COMB</th>\n",
              "      <th>FUELCONSUMPTION_COMB_MPG</th>\n",
              "      <th>CO2EMISSIONS</th>\n",
              "    </tr>\n",
              "  </thead>\n",
              "  <tbody>\n",
              "    <tr>\n",
              "      <th>0</th>\n",
              "      <td>2014</td>\n",
              "      <td>ACURA</td>\n",
              "      <td>ILX</td>\n",
              "      <td>COMPACT</td>\n",
              "      <td>2.0</td>\n",
              "      <td>4</td>\n",
              "      <td>AS5</td>\n",
              "      <td>Z</td>\n",
              "      <td>9.9</td>\n",
              "      <td>6.7</td>\n",
              "      <td>8.5</td>\n",
              "      <td>33</td>\n",
              "      <td>196</td>\n",
              "    </tr>\n",
              "    <tr>\n",
              "      <th>1</th>\n",
              "      <td>2014</td>\n",
              "      <td>ACURA</td>\n",
              "      <td>ILX</td>\n",
              "      <td>COMPACT</td>\n",
              "      <td>2.4</td>\n",
              "      <td>4</td>\n",
              "      <td>M6</td>\n",
              "      <td>Z</td>\n",
              "      <td>11.2</td>\n",
              "      <td>7.7</td>\n",
              "      <td>9.6</td>\n",
              "      <td>29</td>\n",
              "      <td>221</td>\n",
              "    </tr>\n",
              "    <tr>\n",
              "      <th>2</th>\n",
              "      <td>2014</td>\n",
              "      <td>ACURA</td>\n",
              "      <td>ILX HYBRID</td>\n",
              "      <td>COMPACT</td>\n",
              "      <td>1.5</td>\n",
              "      <td>4</td>\n",
              "      <td>AV7</td>\n",
              "      <td>Z</td>\n",
              "      <td>6.0</td>\n",
              "      <td>5.8</td>\n",
              "      <td>5.9</td>\n",
              "      <td>48</td>\n",
              "      <td>136</td>\n",
              "    </tr>\n",
              "    <tr>\n",
              "      <th>3</th>\n",
              "      <td>2014</td>\n",
              "      <td>ACURA</td>\n",
              "      <td>MDX 4WD</td>\n",
              "      <td>SUV - SMALL</td>\n",
              "      <td>3.5</td>\n",
              "      <td>6</td>\n",
              "      <td>AS6</td>\n",
              "      <td>Z</td>\n",
              "      <td>12.7</td>\n",
              "      <td>9.1</td>\n",
              "      <td>11.1</td>\n",
              "      <td>25</td>\n",
              "      <td>255</td>\n",
              "    </tr>\n",
              "    <tr>\n",
              "      <th>4</th>\n",
              "      <td>2014</td>\n",
              "      <td>ACURA</td>\n",
              "      <td>RDX AWD</td>\n",
              "      <td>SUV - SMALL</td>\n",
              "      <td>3.5</td>\n",
              "      <td>6</td>\n",
              "      <td>AS6</td>\n",
              "      <td>Z</td>\n",
              "      <td>12.1</td>\n",
              "      <td>8.7</td>\n",
              "      <td>10.6</td>\n",
              "      <td>27</td>\n",
              "      <td>244</td>\n",
              "    </tr>\n",
              "  </tbody>\n",
              "</table>\n",
              "</div>"
            ],
            "text/plain": [
              "   MODELYEAR   MAKE  ... FUELCONSUMPTION_COMB_MPG CO2EMISSIONS\n",
              "0       2014  ACURA  ...                       33          196\n",
              "1       2014  ACURA  ...                       29          221\n",
              "2       2014  ACURA  ...                       48          136\n",
              "3       2014  ACURA  ...                       25          255\n",
              "4       2014  ACURA  ...                       27          244\n",
              "\n",
              "[5 rows x 13 columns]"
            ]
          },
          "metadata": {
            "tags": []
          },
          "execution_count": 38
        }
      ]
    },
    {
      "cell_type": "markdown",
      "metadata": {
        "id": "XAmHyOXGyH_s"
      },
      "source": [
        "#Plotting Emission Values"
      ]
    },
    {
      "cell_type": "code",
      "metadata": {
        "colab": {
          "base_uri": "https://localhost:8080/",
          "height": 280
        },
        "id": "2w1x9v6SyDc2",
        "outputId": "8261d76d-cf0e-4275-f910-a656da847fa1"
      },
      "source": [
        "plt.scatter(cdf.ENGINESIZE, cdf.CO2EMISSIONS,  color='blue')\n",
        "plt.xlabel(\"Engine size\")\n",
        "plt.ylabel(\"Emissions\")\n",
        "plt.show()"
      ],
      "execution_count": 39,
      "outputs": [
        {
          "output_type": "display_data",
          "data": {
            "image/png": "[encoded data removed]",
            "text/plain": [
              "<Figure size 432x288 with 1 Axes>"
            ]
          },
          "metadata": {
            "tags": [],
            "needs_background": "light"
          }
        }
      ]
    },
    {
      "cell_type": "markdown",
      "metadata": {
        "id": "J9o8cGYVbLhU"
      },
      "source": [
        "## Extracting variables"
      ]
    },
    {
      "cell_type": "code",
      "metadata": {
        "id": "T_da1fRVbLhV"
      },
      "source": [
        "cdf = df[['ENGINESIZE','CYLINDERS','FUELCONSUMPTION_CITY','FUELCONSUMPTION_HWY','FUELCONSUMPTION_COMB','CO2EMISSIONS']]\n",
        "msk = np.random.rand(len(df)) < 0.6\n",
        "train = cdf[msk]\n",
        "test = cdf[~msk]\n",
        "\n",
        "cdf_1 = df[['ENGINESIZE','CYLINDERS','FUELCONSUMPTION_CITY','FUELCONSUMPTION_HWY','FUELCONSUMPTION_COMB','FUELCONSUMPTION_COMB_MPG','CO2EMISSIONS']]\n",
        "msk_1 = np.random.rand(len(df)) < 0.6\n",
        "train_1 = cdf_1[msk]\n",
        "test_1 = cdf_1[~msk]"
      ],
      "execution_count": 40,
      "outputs": []
    },
    {
      "cell_type": "markdown",
      "metadata": {
        "id": "khRKhUZPbLhd"
      },
      "source": [
        "## Training the ML model"
      ]
    },
    {
      "cell_type": "code",
      "metadata": {
        "id": "BZHt7dQgbLhe",
        "colab": {
          "base_uri": "https://localhost:8080/"
        },
        "outputId": "fdf4b984-24d1-4dbe-c202-030f0ae3a166"
      },
      "source": [
        "from sklearn import linear_model\n",
        "regr = linear_model.LinearRegression()\n",
        "regr_1 = linear_model.LinearRegression()\n",
        "x = np.asanyarray(train[['ENGINESIZE','CYLINDERS','FUELCONSUMPTION_CITY','FUELCONSUMPTION_HWY','FUELCONSUMPTION_COMB']])\n",
        "y = np.asanyarray(train[['CO2EMISSIONS']])\n",
        "regr.fit (x, y)\n",
        "print ('Coefficients value for 5 features: ', regr.coef_)\n",
        "\n",
        "x_1 = np.asanyarray(train_1[['ENGINESIZE','CYLINDERS','FUELCONSUMPTION_CITY','FUELCONSUMPTION_HWY','FUELCONSUMPTION_COMB','FUELCONSUMPTION_COMB_MPG']])\n",
        "y_1 = np.asanyarray(train_1[['CO2EMISSIONS']])\n",
        "regr_1.fit (x_1, y_1)\n",
        "print ('Coefficients value for 6 features: ', regr_1.coef_)"
      ],
      "execution_count": 41,
      "outputs": [
        {
          "output_type": "stream",
          "text": [
            "Coefficients value for 5 features:  [[11.62390806  7.12151493 -0.98396991  1.05230304  9.66024396]]\n",
            "Coefficients value for 6 features:  [[  8.91269585   7.60547788 -12.4947342   -2.43157259  18.76159777\n",
            "   -3.97831014]]\n"
          ],
          "name": "stdout"
        }
      ]
    },
    {
      "cell_type": "markdown",
      "metadata": {
        "id": "Qvk2kp4HbLhi"
      },
      "source": [
        "## Prediction "
      ]
    },
    {
      "cell_type": "code",
      "metadata": {
        "id": "5UMNgazibLhj",
        "colab": {
          "base_uri": "https://localhost:8080/"
        },
        "outputId": "15e73b51-2f0e-49ff-e59c-c184c57bcd21"
      },
      "source": [
        "y_hat= regr.predict(test[['ENGINESIZE','CYLINDERS','FUELCONSUMPTION_CITY','FUELCONSUMPTION_HWY','FUELCONSUMPTION_COMB']])\n",
        "x = np.asanyarray(test[['ENGINESIZE','CYLINDERS','FUELCONSUMPTION_CITY','FUELCONSUMPTION_HWY','FUELCONSUMPTION_COMB']])\n",
        "y = np.asanyarray(test[['CO2EMISSIONS']])\n",
        "print(\"Residual sum of squares for 5 features: %.2f\"% np.mean((y_hat - y) ** 2))\n",
        "print('Variance score for 5 features: %.2f' % regr.score(x, y))\n",
        "print()\n",
        "y_hat_1= regr_1.predict(test_1[['ENGINESIZE','CYLINDERS','FUELCONSUMPTION_CITY','FUELCONSUMPTION_HWY','FUELCONSUMPTION_COMB','FUELCONSUMPTION_COMB_MPG']])\n",
        "x_1 = np.asanyarray(test_1[['ENGINESIZE','CYLINDERS','FUELCONSUMPTION_CITY','FUELCONSUMPTION_HWY','FUELCONSUMPTION_COMB','FUELCONSUMPTION_COMB_MPG']])\n",
        "y_1 = np.asanyarray(test_1[['CO2EMISSIONS']])\n",
        "print(\"Residual sum of squares for 6 features: %.2f\"% np.mean((y_hat_1 - y_1) ** 2))\n",
        "print('Variance score for 6 features: %.2f' % regr_1.score(x_1, y_1))"
      ],
      "execution_count": 42,
      "outputs": [
        {
          "output_type": "stream",
          "text": [
            "Residual sum of squares for 5 features: 550.21\n",
            "Variance score for 5 features: 0.87\n",
            "\n",
            "Residual sum of squares for 6 features: 435.56\n",
            "Variance score for 6 features: 0.90\n"
          ],
          "name": "stdout"
        }
      ]
    },
    {
      "cell_type": "code",
      "metadata": {
        "id": "RW1pZNadhPfG",
        "colab": {
          "base_uri": "https://localhost:8080/"
        },
        "outputId": "6b25c81e-1c95-4a32-ea3e-2d7f79d7bf30"
      },
      "source": [
        "a = df[['ENGINESIZE','CYLINDERS','FUELCONSUMPTION_CITY','FUELCONSUMPTION_HWY','FUELCONSUMPTION_COMB']]\n",
        "b = df['CO2EMISSIONS']\n",
        "model = sm.OLS(b, a)\n",
        "print()\n",
        "a_1 = df[['ENGINESIZE','CYLINDERS','FUELCONSUMPTION_CITY','FUELCONSUMPTION_HWY','FUELCONSUMPTION_COMB','FUELCONSUMPTION_COMB_MPG']]\n",
        "b_1 = df['CO2EMISSIONS']\n",
        "model_1 = sm.OLS(b_1, a_1)"
      ],
      "execution_count": 43,
      "outputs": [
        {
          "output_type": "stream",
          "text": [
            "\n"
          ],
          "name": "stdout"
        }
      ]
    },
    {
      "cell_type": "code",
      "metadata": {
        "id": "rQAhgVV6l4km",
        "colab": {
          "base_uri": "https://localhost:8080/"
        },
        "outputId": "ab92660b-02af-4731-8be8-dfb7339522b8"
      },
      "source": [
        "result = model.fit()\n",
        "print(result.params)\n",
        "print('---------------------------')\n",
        "result_1 = model_1.fit()\n",
        "print(result_1.params)"
      ],
      "execution_count": 44,
      "outputs": [
        {
          "output_type": "stream",
          "text": [
            "ENGINESIZE              -6.786437\n",
            "CYLINDERS               21.921299\n",
            "FUELCONSUMPTION_CITY   -15.819296\n",
            "FUELCONSUMPTION_HWY     -5.624455\n",
            "FUELCONSUMPTION_COMB    35.615402\n",
            "dtype: float64\n",
            "---------------------------\n",
            "ENGINESIZE                   7.625529\n",
            "CYLINDERS                   10.336661\n",
            "FUELCONSUMPTION_CITY        -7.648370\n",
            "FUELCONSUMPTION_HWY         -7.912394\n",
            "FUELCONSUMPTION_COMB        27.519764\n",
            "FUELCONSUMPTION_COMB_MPG     1.062279\n",
            "dtype: float64\n"
          ],
          "name": "stdout"
        }
      ]
    },
    {
      "cell_type": "code",
      "metadata": {
        "id": "LYyFFr2ml2pn",
        "colab": {
          "base_uri": "https://localhost:8080/"
        },
        "outputId": "49892ec2-6a58-4edf-bff6-1711c63afd75"
      },
      "source": [
        "print(result.summary())"
      ],
      "execution_count": 45,
      "outputs": [
        {
          "output_type": "stream",
          "text": [
            "                                 OLS Regression Results                                \n",
            "=======================================================================================\n",
            "Dep. Variable:           CO2EMISSIONS   R-squared (uncentered):                   0.989\n",
            "Model:                            OLS   Adj. R-squared (uncentered):              0.989\n",
            "Method:                 Least Squares   F-statistic:                          1.955e+04\n",
            "Date:                Sat, 07 Aug 2021   Prob (F-statistic):                        0.00\n",
            "Time:                        13:58:29   Log-Likelihood:                         -5045.0\n",
            "No. Observations:                1067   AIC:                                  1.010e+04\n",
            "Df Residuals:                    1062   BIC:                                  1.012e+04\n",
            "Df Model:                           5                                                  \n",
            "Covariance Type:            nonrobust                                                  \n",
            "========================================================================================\n",
            "                           coef    std err          t      P>|t|      [0.025      0.975]\n",
            "----------------------------------------------------------------------------------------\n",
            "ENGINESIZE              -6.7864      1.504     -4.512      0.000      -9.738      -3.835\n",
            "CYLINDERS               21.9213      1.045     20.975      0.000      19.871      23.972\n",
            "FUELCONSUMPTION_CITY   -15.8193     16.125     -0.981      0.327     -47.461      15.822\n",
            "FUELCONSUMPTION_HWY     -5.6245     13.299     -0.423      0.672     -31.720      20.471\n",
            "FUELCONSUMPTION_COMB    35.6154     29.327      1.214      0.225     -21.931      93.162\n",
            "==============================================================================\n",
            "Omnibus:                      246.974   Durbin-Watson:                   1.928\n",
            "Prob(Omnibus):                  0.000   Jarque-Bera (JB):              489.003\n",
            "Skew:                          -1.341   Prob(JB):                    6.52e-107\n",
            "Kurtosis:                       4.950   Cond. No.                         944.\n",
            "==============================================================================\n",
            "\n",
            "Warnings:\n",
            "[1] Standard Errors assume that the covariance matrix of the errors is correctly specified.\n"
          ],
          "name": "stdout"
        }
      ]
    },
    {
      "cell_type": "code",
      "metadata": {
        "id": "iCJN4BiNja7F",
        "colab": {
          "base_uri": "https://localhost:8080/"
        },
        "outputId": "e671570c-f3a2-4b52-81f0-21b4d73345a8"
      },
      "source": [
        "print(result_1.summary())"
      ],
      "execution_count": 46,
      "outputs": [
        {
          "output_type": "stream",
          "text": [
            "                                 OLS Regression Results                                \n",
            "=======================================================================================\n",
            "Dep. Variable:           CO2EMISSIONS   R-squared (uncentered):                   0.991\n",
            "Model:                            OLS   Adj. R-squared (uncentered):              0.991\n",
            "Method:                 Least Squares   F-statistic:                          1.976e+04\n",
            "Date:                Sat, 07 Aug 2021   Prob (F-statistic):                        0.00\n",
            "Time:                        13:58:29   Log-Likelihood:                         -4942.5\n",
            "No. Observations:                1067   AIC:                                      9897.\n",
            "Df Residuals:                    1061   BIC:                                      9927.\n",
            "Df Model:                           6                                                  \n",
            "Covariance Type:            nonrobust                                                  \n",
            "============================================================================================\n",
            "                               coef    std err          t      P>|t|      [0.025      0.975]\n",
            "--------------------------------------------------------------------------------------------\n",
            "ENGINESIZE                   7.6255      1.671      4.564      0.000       4.347      10.904\n",
            "CYLINDERS                   10.3367      1.224      8.443      0.000       7.934      12.739\n",
            "FUELCONSUMPTION_CITY        -7.6484     14.665     -0.522      0.602     -36.424      21.127\n",
            "FUELCONSUMPTION_HWY         -7.9124     12.087     -0.655      0.513     -31.630      15.805\n",
            "FUELCONSUMPTION_COMB        27.5198     26.658      1.032      0.302     -24.789      79.829\n",
            "FUELCONSUMPTION_COMB_MPG     1.0623      0.071     14.995      0.000       0.923       1.201\n",
            "==============================================================================\n",
            "Omnibus:                       96.306   Durbin-Watson:                   1.900\n",
            "Prob(Omnibus):                  0.000   Jarque-Bera (JB):              131.126\n",
            "Skew:                          -0.716   Prob(JB):                     3.36e-29\n",
            "Kurtosis:                       3.949   Cond. No.                     1.45e+03\n",
            "==============================================================================\n",
            "\n",
            "Warnings:\n",
            "[1] Standard Errors assume that the covariance matrix of the errors is correctly specified.\n",
            "[2] The condition number is large, 1.45e+03. This might indicate that there are\n",
            "strong multicollinearity or other numerical problems.\n"
          ],
          "name": "stdout"
        }
      ]
    }
  ]
}